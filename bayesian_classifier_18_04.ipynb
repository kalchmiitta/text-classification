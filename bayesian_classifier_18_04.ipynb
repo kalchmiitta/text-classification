{
  "cells": [
    {
      "cell_type": "code",
      "execution_count": null,
      "metadata": {
        "_cell_guid": "b1076dfc-b9ad-4769-8c92-a6c4dae69d19",
        "_uuid": "8f2839f25d086af736a60e9eeb907d3b93b6e0e5",
        "execution": {
          "iopub.execute_input": "2022-04-18T12:38:19.622416Z",
          "iopub.status.busy": "2022-04-18T12:38:19.621812Z",
          "iopub.status.idle": "2022-04-18T12:38:19.626693Z",
          "shell.execute_reply": "2022-04-18T12:38:19.625830Z",
          "shell.execute_reply.started": "2022-04-18T12:38:19.622363Z"
        },
        "id": "JPz3xsI8sQP0",
        "trusted": true
      },
      "outputs": [],
      "source": [
        "import numpy as np\n",
        "import pandas as p"
      ]
    },
    {
      "cell_type": "code",
      "execution_count": null,
      "metadata": {
        "execution": {
          "iopub.execute_input": "2022-04-18T12:39:12.748763Z",
          "iopub.status.busy": "2022-04-18T12:39:12.748186Z"
        },
        "id": "WGdfi_ZysQP3",
        "trusted": true
      },
      "outputs": [],
      "source": [
        "train = open('data_for_train_and_test_result.txt', encoding=\"utf8\")\n",
        "\n",
        "lines = train.readlines()\n",
        "target = []\n",
        "phrase = []\n",
        "\n",
        "for line in lines:\n",
        "    target.append(np.double(line[0]))\n",
        "    phrase.append(line[2:])\n",
        "\n",
        "target = np.array(target)\n",
        "phrase = np.array(phrase)"
      ]
    },
    {
      "cell_type": "code",
      "execution_count": null,
      "metadata": {
        "id": "q1dP-0XjsQP4",
        "trusted": true
      },
      "outputs": [],
      "source": [
        "from sklearn.model_selection import train_test_split\n",
        "\n",
        "X_train, X_test, y_train, y_test = train_test_split(phrase, target, test_size=0.4, random_state=0)"
      ]
    },
    {
      "cell_type": "code",
      "execution_count": null,
      "metadata": {
        "id": "jTMJ3nDdsQP4",
        "trusted": true
      },
      "outputs": [],
      "source": [
        "unique, counts = np.unique(y_train, return_counts=True)"
      ]
    },
    {
      "cell_type": "code",
      "execution_count": null,
      "metadata": {
        "id": "T0yVzkQFsQP5",
        "trusted": true
      },
      "outputs": [],
      "source": [
        "from sklearn.feature_extraction.text import CountVectorizer\n",
        "from sklearn.feature_extraction.text import TfidfVectorizer\n",
        "\n",
        "unigram_tfidf_vectorizer = TfidfVectorizer(use_idf=True, min_df=1)\n",
        "\n",
        "X_train_vec = unigram_tfidf_vectorizer.fit_transform(X_train)\n",
        "\n",
        "X_test_vec = unigram_tfidf_vectorizer.transform(X_test)\n",
        "\n"
      ]
    },
    {
      "cell_type": "code",
      "execution_count": null,
      "metadata": {
        "colab": {
          "base_uri": "https://localhost:8080/"
        },
        "id": "r0QpbgrQsQP5",
        "outputId": "8591de65-e936-4aaa-d43d-aa0a0f3206f5",
        "trusted": true
      },
      "outputs": [
        {
          "name": "stdout",
          "output_type": "stream",
          "text": [
            "0.9294117647058824\n"
          ]
        }
      ],
      "source": [
        "from sklearn.naive_bayes import MultinomialNB\n",
        "\n",
        "nb_clf = MultinomialNB()\n",
        "nb_clf.fit(X_train_vec, y_train)\n",
        "\n",
        "print(nb_clf.score(X_test_vec,y_test))"
      ]
    },
    {
      "cell_type": "code",
      "execution_count": null,
      "metadata": {
        "id": "Ke7hN74qsQP5",
        "trusted": true
      },
      "outputs": [],
      "source": [
        "import pickle\n",
        "with open('trained_bayes_model.pkl', 'wb') as fout:\n",
        "  pickle.dump((unigram_tfidf_vectorizer, nb_clf), fout)"
      ]
    },
    {
      "cell_type": "code",
      "execution_count": null,
      "metadata": {
        "colab": {
          "base_uri": "https://localhost:8080/"
        },
        "id": "V5iBguNCvL0d",
        "outputId": "9db60d3e-6590-45b9-b6ef-b3428298d6f8"
      },
      "outputs": [
        {
          "name": "stdout",
          "output_type": "stream",
          "text": [
            "[[0.87429953 0.12570047]]\n"
          ]
        }
      ],
      "source": [
        "import pickle\n",
        "\n",
        "with open('trained_bayes_model.pkl', 'rb') as fin:\n",
        "  vectorizer, clf = pickle.load(fin)\n",
        "\n",
        "  X_new = vectorizer.transform([\"это мои любимык кроссовки\"]).reshape(1, -1)\n",
        "  X_new_preds = clf.predict_proba(X_new)\n",
        "  print(X_new_preds)"
      ]
    }
  ],
  "metadata": {
    "colab": {
      "collapsed_sections": [],
      "name": "bayesian-classifier-18.04.ipynb",
      "provenance": []
    },
    "kernelspec": {
      "display_name": "Python 3",
      "language": "python",
      "name": "python3"
    },
    "language_info": {
      "codemirror_mode": {
        "name": "ipython",
        "version": 3
      },
      "file_extension": ".py",
      "mimetype": "text/x-python",
      "name": "python",
      "nbconvert_exporter": "python",
      "pygments_lexer": "ipython3",
      "version": "3.6.4"
    }
  },
  "nbformat": 4,
  "nbformat_minor": 0
}
