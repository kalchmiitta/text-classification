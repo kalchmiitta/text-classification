{
 "cells": [
  {
   "cell_type": "code",
   "execution_count": 1,
   "metadata": {},
   "outputs": [
    {
     "name": "stdout",
     "output_type": "stream",
     "text": [
      "и тут я вспомнил как за ним ухаживала одна смазливая девица из его офиса он подвозил её к работе после чего мы долго и долго целовались и обнимались потом провожал домой а на следующий день провожал до работы и так много раз мне казалос\n",
      "\n"
     ]
    }
   ],
   "source": [
    "import numpy as np\n",
    "\n",
    "train = open('data_for_train_and_test_result.txt', encoding='utf-8')\n",
    "\n",
    "lines = train.readlines()\n",
    "target = []\n",
    "phrase = []\n",
    "\n",
    "for line in lines:\n",
    "    target.append(int(line[0]))\n",
    "    phrase.append(line[2:])\n",
    "\n",
    "target = np.array(target)\n",
    "phrase = np.array(phrase)\n",
    "\n",
    "sentenses = []\n",
    "for sen in phrase:\n",
    "    sentenses.append((sen))\n",
    "\n",
    "print(sentenses[5])"
   ]
  },
  {
   "cell_type": "code",
   "execution_count": 2,
   "metadata": {},
   "outputs": [
    {
     "name": "stderr",
     "output_type": "stream",
     "text": [
      "[nltk_data] Downloading package stopwords to\n",
      "[nltk_data]     C:\\Users\\1\\AppData\\Roaming\\nltk_data...\n",
      "[nltk_data]   Package stopwords is already up-to-date!\n"
     ]
    }
   ],
   "source": [
    "import re\n",
    "import matplotlib.pyplot as plt\n",
    "from nltk.corpus import stopwords\n",
    "from nltk.stem import PorterStemmer\n",
    "from sklearn.feature_extraction.text import TfidfVectorizer\n",
    "from sklearn.pipeline import Pipeline\n",
    "from sklearn.metrics import classification_report, confusion_matrix\n",
    "from sklearn.model_selection import train_test_split\n",
    "from sklearn.feature_selection import SelectKBest, chi2\n",
    "from sqlite3 import Error\n",
    "from sklearn.ensemble import RandomForestClassifier\n",
    "import sqlite3\n",
    "import pickle\n",
    "import nltk\n",
    "nltk.download('stopwords')\n",
    "%matplotlib inline"
   ]
  },
  {
   "cell_type": "code",
   "execution_count": 3,
   "metadata": {},
   "outputs": [
    {
     "data": {
      "text/plain": [
       "(16002, 28479)"
      ]
     },
     "execution_count": 3,
     "metadata": {},
     "output_type": "execute_result"
    }
   ],
   "source": [
    "vectorizer = TfidfVectorizer(min_df= 3, stop_words=\"english\", sublinear_tf=True, norm='l2', ngram_range=(1, 2))\n",
    "final_features = vectorizer.fit_transform(phrase).toarray()\n",
    "final_features.shape"
   ]
  },
  {
   "cell_type": "code",
   "execution_count": 6,
   "metadata": {},
   "outputs": [
    {
     "name": "stdout",
     "output_type": "stream",
     "text": [
      "              precision    recall  f1-score   support\n",
      "\n",
      "           0       0.80      0.87      0.83      1976\n",
      "           1       0.86      0.78      0.82      2025\n",
      "\n",
      "    accuracy                           0.83      4001\n",
      "   macro avg       0.83      0.83      0.83      4001\n",
      "weighted avg       0.83      0.83      0.83      4001\n",
      "\n",
      "[[1719  257]\n",
      " [ 436 1589]]\n"
     ]
    }
   ],
   "source": [
    "from sklearn.linear_model import LogisticRegression\n",
    "X = phrase\n",
    "Y = target\n",
    "X_train, X_test, y_train, y_test = train_test_split(X, Y, test_size=0.25)\n",
    "\n",
    "pipeline = Pipeline([('vect', vectorizer),\n",
    "                     ('chi',  SelectKBest(chi2, k=12)),\n",
    "                     ('clf', LogisticRegression(random_state=0))])\n",
    "\n",
    "model = pipeline.fit(X_train, y_train)\n",
    "\n",
    "print(model.score(X_test_vec,y_test))\n",
    "\n",
    "with open('LogisticRegression.pickle', 'wb') as f:\n",
    "    pickle.dump((vectorizer,model), f)\n",
    "\n",
    "ytest = np.array(y_test)\n",
    "\n",
    "# confusion matrix and classification report(precision, recall, F1-score)\n",
    "print(classification_report(ytest, model.predict(X_test)))\n",
    "print(confusion_matrix(ytest, model.predict(X_test)))"
   ]
  },
  {
   "cell_type": "code",
   "execution_count": null,
   "metadata": {},
   "outputs": [],
   "source": [
    "import pickle\n",
    "with open('train_and_test_LogisticRegression.pkl', 'wb') as fout:\n",
    "  pickle.dump((unigram_tfidf_vectorizer, nb_clf), fout)"
   ]
  },
  {
   "cell_type": "code",
   "execution_count": 15,
   "metadata": {},
   "outputs": [
    {
     "name": "stdout",
     "output_type": "stream",
     "text": [
      "[[0.75192836 0.24807164]]\n"
     ]
    }
   ],
   "source": [
    "import pickle\n",
    "\n",
    "with open('train_and_test_LogisticRegression.pkl', 'rb') as fin:\n",
    "  vectorizer, clf = pickle.load(fin)\n",
    "\n",
    "  X_new = [\"загитова согласилась вести ледниковый период\"]\n",
    "  X_new_preds = clf.predict_proba(X_new)\n",
    "  print(X_new_preds)"
   ]
  }
 ],
 "metadata": {
  "kernelspec": {
   "display_name": "Python 3",
   "language": "python",
   "name": "python3"
  },
  "language_info": {
   "codemirror_mode": {
    "name": "ipython",
    "version": 3
   },
   "file_extension": ".py",
   "mimetype": "text/x-python",
   "name": "python",
   "nbconvert_exporter": "python",
   "pygments_lexer": "ipython3",
   "version": "3.8.5"
  }
 },
 "nbformat": 4,
 "nbformat_minor": 4
}
