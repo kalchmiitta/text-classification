{
  "cells": [
    {
      "cell_type": "code",
      "execution_count": 17,
      "metadata": {
        "id": "MFk-PjX1J1mf"
      },
      "outputs": [],
      "source": [
        "from sklearn.neural_network import MLPClassifier\n",
        "import numpy as np\n",
        "import pandas as pd\n",
        "from sklearn.feature_extraction.text import TfidfVectorizer\n",
        "from sklearn.model_selection import cross_val_score\n",
        "from sklearn.pipeline import make_pipeline"
      ]
    },
    {
      "cell_type": "code",
      "execution_count": 24,
      "metadata": {
        "id": "2uA7yMWJJ9z6"
      },
      "outputs": [],
      "source": [
        "import numpy as np\n",
        "train = open('data_for_train_and_test_result.txt', encoding='utf-8')\n",
        "\n",
        "lines = train.readlines()\n",
        "target = []\n",
        "phrase = []\n",
        "\n",
        "cnt = 0\n",
        "for line in lines:\n",
        "  cnt += 1\n",
        "  target.append(float(line[0]))\n",
        "  phrase.append(line[2:])\n",
        "  if cnt == 100:\n",
        "    break\n",
        "  \n",
        "\n",
        "target = np.array(target)\n",
        "phrase = np.array(phrase)"
      ]
    },
    {
      "cell_type": "code",
      "execution_count": 25,
      "metadata": {
        "id": "pgHqyathLtWX"
      },
      "outputs": [],
      "source": [
        "from sklearn.model_selection import train_test_split\n",
        "\n",
        "X_train, X_test, y_train, y_test = train_test_split(phrase, target, test_size=0.4, random_state=0)"
      ]
    },
    {
      "cell_type": "code",
      "execution_count": 26,
      "metadata": {
        "id": "qihfxaBINeOz"
      },
      "outputs": [],
      "source": [
        "unique, counts = np.unique(y_train, return_counts=True)"
      ]
    },
    {
      "cell_type": "code",
      "execution_count": 27,
      "metadata": {
        "id": "sJiA6jhMNg_Y"
      },
      "outputs": [],
      "source": [
        "from sklearn.feature_extraction.text import CountVectorizer\n",
        "from sklearn.feature_extraction.text import TfidfVectorizer\n",
        "\n",
        "unigram_tfidf_vectorizer = TfidfVectorizer(use_idf=True, min_df=1)\n",
        "\n",
        "X_train_vec = unigram_tfidf_vectorizer.fit_transform(X_train)\n",
        "\n",
        "X_test_vec = unigram_tfidf_vectorizer.transform(X_test)\n"
      ]
    },
    {
      "cell_type": "code",
      "execution_count": 28,
      "metadata": {
        "colab": {
          "base_uri": "https://localhost:8080/"
        },
        "id": "OGsW5WErNj3P",
        "outputId": "97bbc99f-0731-49db-9d67-42b92ab0770f"
      },
      "outputs": [
        {
          "data": {
            "text/plain": [
              "MLPClassifier(hidden_layer_sizes=[100], random_state=11)"
            ]
          },
          "execution_count": 28,
          "metadata": {},
          "output_type": "execute_result"
        }
      ],
      "source": [
        "model = MLPClassifier(hidden_layer_sizes=[100], random_state=11).fit(X_train_vec,y_train)\n",
        "model.fit(X_train_vec,y_train)"
      ]
    },
    {
      "cell_type": "code",
      "execution_count": 32,
      "metadata": {
        "colab": {
          "base_uri": "https://localhost:8080/"
        },
        "id": "WnCW2i06KDTc",
        "outputId": "5ea8b6b2-3b66-4214-9d05-53dacd52b2d5"
      },
      "outputs": [
        {
          "name": "stdout",
          "output_type": "stream",
          "text": [
            "1.0 0.65\n"
          ]
        }
      ],
      "source": [
        "from sklearn.metrics import accuracy_score\n",
        "predictions = model.predict(X_train_vec)\n",
        "prediction_test = model.predict(X_test_vec)\n",
        "print(accuracy_score(y_train, predictions), accuracy_score(y_test, prediction_test))"
      ]
    },
    {
      "cell_type": "code",
      "execution_count": 33,
      "metadata": {
        "id": "VNChm2AtPa1R"
      },
      "outputs": [],
      "source": [
        "import pickle\n",
        "with open('MLP.pkl', 'wb') as fout:\n",
        "  pickle.dump((unigram_tfidf_vectorizer, model), fout)"
      ]
    },
    {
      "cell_type": "code",
      "execution_count": 34,
      "metadata": {
        "colab": {
          "base_uri": "https://localhost:8080/"
        },
        "id": "o-w_iG76QG7p",
        "outputId": "41483931-034f-470d-a9f2-e5b3d938de7a"
      },
      "outputs": [
        {
          "name": "stdout",
          "output_type": "stream",
          "text": [
            "[[0.27795591 0.72204409]]\n"
          ]
        }
      ],
      "source": [
        "import pickle\n",
        "\n",
        "with open('MLP.pkl', 'rb') as fin:\n",
        "  vectorizer, clf = pickle.load(fin)\n",
        "\n",
        "  X_new = vectorizer.transform([\"это мои любимык кроссовки\"]).reshape(1, -1)\n",
        "  X_new_preds = clf.predict_proba(X_new)\n",
        "  print(X_new_preds)"
      ]
    }
  ],
  "metadata": {
    "colab": {
      "name": "MLP_1_05.ipynb",
      "provenance": []
    },
    "kernelspec": {
      "display_name": "Python 3",
      "name": "python3"
    },
    "language_info": {
      "name": "python"
    }
  },
  "nbformat": 4,
  "nbformat_minor": 0
}
